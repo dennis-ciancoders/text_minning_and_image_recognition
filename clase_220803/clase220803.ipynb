{
 "cells": [
  {
   "cell_type": "code",
   "execution_count": 1,
   "metadata": {},
   "outputs": [],
   "source": [
    "import re"
   ]
  },
  {
   "cell_type": "code",
   "execution_count": 2,
   "metadata": {},
   "outputs": [
    {
     "data": {
      "text/plain": [
       "'(+502)4578-5464'"
      ]
     },
     "execution_count": 2,
     "metadata": {},
     "output_type": "execute_result"
    }
   ],
   "source": [
    "texto = \"Hola como estas, (+502)4578-5464 este es mi numero, mi otro numero es 5658-4564, adios\"\n",
    "\n",
    "match = re.search(r'(\\(\\+502\\))?\\d{4}-\\d{4}', texto)\n",
    "match.group()"
   ]
  },
  {
   "cell_type": "code",
   "execution_count": 3,
   "metadata": {},
   "outputs": [
    {
     "name": "stdout",
     "output_type": "stream",
     "text": [
      "(17, 32)\n",
      "(+502)4578-5464\n",
      "(70, 79)\n",
      "5658-4564\n"
     ]
    }
   ],
   "source": [
    "all_matches = re.finditer(r'(\\(\\+502\\))?\\d{4}-\\d{4}', texto)\n",
    "for match in all_matches:\n",
    "    print(match.span())\n",
    "    print(match.group())\n"
   ]
  },
  {
   "cell_type": "code",
   "execution_count": 4,
   "metadata": {},
   "outputs": [],
   "source": [
    "import spacy\n"
   ]
  },
  {
   "cell_type": "code",
   "execution_count": 5,
   "metadata": {},
   "outputs": [],
   "source": [
    "nlp_en_sm = spacy.load('en_core_web_sm')\n",
    "nlp_en_md = spacy.load('en_core_web_md')"
   ]
  },
  {
   "cell_type": "code",
   "execution_count": 10,
   "metadata": {},
   "outputs": [
    {
     "name": "stdout",
     "output_type": "stream",
     "text": [
      "Tesla --- PROPN --- nsubj\n",
      "is --- AUX --- aux\n",
      "looking --- VERB --- ROOT\n",
      "at --- ADP --- prep\n",
      "buying --- VERB --- pcomp\n",
      "U.S. --- PROPN --- compound\n",
      "startup --- NOUN --- dobj\n",
      "for --- ADP --- prep\n",
      "$ --- SYM --- quantmod\n",
      "6 --- NUM --- compound\n",
      "million --- NUM --- pobj\n"
     ]
    }
   ],
   "source": [
    "texto = \"Tesla is looking at buying U.S. startup for $6 million\"\n",
    "doc1_sm = nlp_en_sm(texto)\n",
    "\n",
    "for token in doc1_sm:\n",
    "    print(token.text, '---', token.pos_, '---', token.dep_)"
   ]
  },
  {
   "cell_type": "code",
   "execution_count": null,
   "metadata": {},
   "outputs": [],
   "source": [
    "doc1_md = nlp_en_md(texto)\n",
    "\n",
    "for token in doc1_md:\n",
    "    print(token.text, '---', token.pos_, '---', token.dep_)"
   ]
  }
 ],
 "metadata": {
  "kernelspec": {
   "display_name": "Python 3.10.5 ('pythondata-ElkPyzMM-py3.10')",
   "language": "python",
   "name": "python3"
  },
  "language_info": {
   "codemirror_mode": {
    "name": "ipython",
    "version": 3
   },
   "file_extension": ".py",
   "mimetype": "text/x-python",
   "name": "python",
   "nbconvert_exporter": "python",
   "pygments_lexer": "ipython3",
   "version": "3.10.5"
  },
  "orig_nbformat": 4,
  "vscode": {
   "interpreter": {
    "hash": "b5c891cd4f68ef213a7b5f847117269620fea06ca1158fbe611802f31c7ef263"
   }
  }
 },
 "nbformat": 4,
 "nbformat_minor": 2
}
