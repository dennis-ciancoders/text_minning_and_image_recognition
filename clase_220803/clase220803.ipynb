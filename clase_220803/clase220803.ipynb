{
 "cells": [
  {
   "cell_type": "code",
   "execution_count": 1,
   "metadata": {},
   "outputs": [],
   "source": [
    "import re"
   ]
  },
  {
   "cell_type": "code",
   "execution_count": 4,
   "metadata": {},
   "outputs": [
    {
     "data": {
      "text/plain": [
       "'(+502)4578-5464'"
      ]
     },
     "execution_count": 4,
     "metadata": {},
     "output_type": "execute_result"
    }
   ],
   "source": [
    "texto = \"Hola como estas, (+502)4578-5464 este es mi numero, mi otro numero es 5658-4564, adios\"\n",
    "\n",
    "match = re.search(r'(\\(\\+502\\))?\\d{4}-\\d{4}', texto)\n",
    "match.group()"
   ]
  },
  {
   "cell_type": "code",
   "execution_count": 25,
   "metadata": {},
   "outputs": [
    {
     "name": "stdout",
     "output_type": "stream",
     "text": [
      "(17, 32)\n",
      "(+502)4578-5464\n",
      "(70, 79)\n",
      "5658-4564\n"
     ]
    }
   ],
   "source": [
    "all_matches = re.finditer(r'(\\(\\+502\\))?\\d{4}-\\d{4}', texto)\n",
    "for match in all_matches:\n",
    "    print(match.span())\n",
    "    print(match.group())\n"
   ]
  }
 ],
 "metadata": {
  "kernelspec": {
   "display_name": "Python 3.10.5 ('pythondata-ElkPyzMM-py3.10')",
   "language": "python",
   "name": "python3"
  },
  "language_info": {
   "codemirror_mode": {
    "name": "ipython",
    "version": 3
   },
   "file_extension": ".py",
   "mimetype": "text/x-python",
   "name": "python",
   "nbconvert_exporter": "python",
   "pygments_lexer": "ipython3",
   "version": "3.10.5"
  },
  "orig_nbformat": 4,
  "vscode": {
   "interpreter": {
    "hash": "b5c891cd4f68ef213a7b5f847117269620fea06ca1158fbe611802f31c7ef263"
   }
  }
 },
 "nbformat": 4,
 "nbformat_minor": 2
}
