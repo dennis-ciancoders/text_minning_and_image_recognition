{
 "cells": [
  {
   "cell_type": "code",
   "execution_count": 19,
   "metadata": {},
   "outputs": [],
   "source": [
    "import re"
   ]
  },
  {
   "cell_type": "code",
   "execution_count": 20,
   "metadata": {},
   "outputs": [
    {
     "data": {
      "text/plain": [
       "'(+502)4578-5464'"
      ]
     },
     "execution_count": 20,
     "metadata": {},
     "output_type": "execute_result"
    }
   ],
   "source": [
    "texto = \"Hola como estas, (+502)4578-5464 este es mi numero, mi otro numero es 5658-4564, adios\"\n",
    "\n",
    "match = re.search(r'(\\(\\+502\\))?\\d{4}-\\d{4}', texto)\n",
    "match.group()"
   ]
  },
  {
   "cell_type": "code",
   "execution_count": 21,
   "metadata": {},
   "outputs": [
    {
     "name": "stdout",
     "output_type": "stream",
     "text": [
      "(17, 32)\n",
      "(+502)4578-5464\n",
      "(70, 79)\n",
      "5658-4564\n"
     ]
    }
   ],
   "source": [
    "all_matches = re.finditer(r'(\\(\\+502\\))?\\d{4}-\\d{4}', texto)\n",
    "for match in all_matches:\n",
    "    print(match.span())\n",
    "    print(match.group())\n"
   ]
  },
  {
   "cell_type": "code",
   "execution_count": 22,
   "metadata": {},
   "outputs": [],
   "source": [
    "import spacy\n"
   ]
  },
  {
   "cell_type": "code",
   "execution_count": 23,
   "metadata": {},
   "outputs": [],
   "source": [
    "nlp_en_sm = spacy.load('en_core_web_sm')\n",
    "nlp_en_md = spacy.load('en_core_web_md')\n",
    "nlp_en_lg = spacy.load('en_core_web_lg')"
   ]
  },
  {
   "cell_type": "code",
   "execution_count": 24,
   "metadata": {},
   "outputs": [
    {
     "name": "stdout",
     "output_type": "stream",
     "text": [
      "Tesla --- PROPN --- nsubj\n",
      "is --- AUX --- aux\n",
      "looking --- VERB --- ROOT\n",
      "at --- ADP --- prep\n",
      "buying --- VERB --- pcomp\n",
      "U.S. --- PROPN --- compound\n",
      "startup --- NOUN --- dobj\n",
      "for --- ADP --- prep\n",
      "$ --- SYM --- quantmod\n",
      "6 --- NUM --- compound\n",
      "million --- NUM --- pobj\n"
     ]
    }
   ],
   "source": [
    "texto = \"Tesla is looking at buying U.S. startup for $6 million\"\n",
    "doc1_sm = nlp_en_sm(texto)\n",
    "\n",
    "for token in doc1_sm:\n",
    "    print(token.text, '---', token.pos_, '---', token.dep_)"
   ]
  },
  {
   "cell_type": "code",
   "execution_count": 25,
   "metadata": {},
   "outputs": [
    {
     "name": "stdout",
     "output_type": "stream",
     "text": [
      "Tesla --- PROPN --- nsubj\n",
      "is --- AUX --- aux\n",
      "looking --- VERB --- ROOT\n",
      "at --- ADP --- prep\n",
      "buying --- VERB --- pcomp\n",
      "U.S. --- PROPN --- compound\n",
      "startup --- NOUN --- dobj\n",
      "for --- ADP --- prep\n",
      "$ --- SYM --- quantmod\n",
      "6 --- NUM --- compound\n",
      "million --- NUM --- pobj\n"
     ]
    }
   ],
   "source": [
    "doc1_md = nlp_en_md(texto)\n",
    "\n",
    "for token in doc1_md:\n",
    "    print(token.text, '---', token.pos_, '---', token.dep_)"
   ]
  },
  {
   "cell_type": "code",
   "execution_count": 26,
   "metadata": {},
   "outputs": [],
   "source": [
    "miString = 'We\\'re here to help!, send us a email to support@email.com or visit us at http://www.sitio.com!' "
   ]
  },
  {
   "cell_type": "code",
   "execution_count": 27,
   "metadata": {},
   "outputs": [
    {
     "name": "stdout",
     "output_type": "stream",
     "text": [
      "We --- PRON --- nsubj\n",
      "'re --- AUX --- ROOT\n",
      "here --- ADV --- advmod\n",
      "to --- PART --- aux\n",
      "help --- VERB --- advcl\n",
      "! --- PUNCT --- punct\n",
      ", --- PUNCT --- punct\n",
      "send --- VERB --- conj\n",
      "us --- PRON --- dative\n",
      "a --- DET --- det\n",
      "email --- NOUN --- dobj\n",
      "to --- PART --- aux\n",
      "support@email.com --- VERB --- acl\n",
      "or --- CCONJ --- cc\n",
      "visit --- VERB --- conj\n",
      "us --- PRON --- dobj\n",
      "at --- ADP --- prep\n",
      "http://www.sitio.com --- NUM --- pobj\n",
      "! --- PUNCT --- punct\n"
     ]
    }
   ],
   "source": [
    "doc2_sm = nlp_en_sm(miString)\n",
    "for token in doc2_sm:\n",
    "    print(token.text, '---', token.pos_, '---', token.dep_)"
   ]
  },
  {
   "cell_type": "code",
   "execution_count": 28,
   "metadata": {},
   "outputs": [
    {
     "name": "stdout",
     "output_type": "stream",
     "text": [
      "We --- PRON --- nsubj\n",
      "'re --- AUX --- ccomp\n",
      "here --- ADV --- advmod\n",
      "to --- PART --- aux\n",
      "help --- VERB --- advcl\n",
      "! --- PUNCT --- punct\n",
      ", --- PUNCT --- punct\n",
      "send --- VERB --- ROOT\n",
      "us --- PRON --- dative\n",
      "a --- DET --- det\n",
      "email --- NOUN --- dobj\n",
      "to --- ADP --- dative\n",
      "support@email.com --- VERB --- pobj\n",
      "or --- CCONJ --- cc\n",
      "visit --- VERB --- conj\n",
      "us --- PRON --- dobj\n",
      "at --- ADP --- prep\n",
      "http://www.sitio.com --- X --- pobj\n",
      "! --- PUNCT --- punct\n"
     ]
    }
   ],
   "source": [
    "doc3_md = nlp_en_md(miString)\n",
    "for token in doc3_md:\n",
    "    print(token.text, '---', token.pos_, '---', token.dep_)\n",
    "    "
   ]
  },
  {
   "cell_type": "code",
   "execution_count": 29,
   "metadata": {},
   "outputs": [
    {
     "name": "stdout",
     "output_type": "stream",
     "text": [
      "We --- PRON --- nsubj\n",
      "'re --- AUX --- ccomp\n",
      "here --- ADV --- advmod\n",
      "to --- PART --- aux\n",
      "help --- VERB --- advcl\n",
      "! --- PUNCT --- punct\n",
      ", --- PUNCT --- punct\n",
      "send --- VERB --- ROOT\n",
      "us --- PRON --- dative\n",
      "a --- DET --- det\n",
      "email --- NOUN --- dobj\n",
      "to --- ADP --- prep\n",
      "support@email.com --- PROPN --- pobj\n",
      "or --- CCONJ --- cc\n",
      "visit --- VERB --- conj\n",
      "us --- PRON --- dobj\n",
      "at --- ADP --- prep\n",
      "http://www.sitio.com --- X --- pobj\n",
      "! --- PUNCT --- punct\n"
     ]
    }
   ],
   "source": [
    "doc2_lg = nlp_en_lg(miString)\n",
    "for token in doc2_lg:\n",
    "    print(token.text, '---', token.pos_, '---', token.dep_)"
   ]
  },
  {
   "cell_type": "code",
   "execution_count": 30,
   "metadata": {},
   "outputs": [
    {
     "name": "stdout",
     "output_type": "stream",
     "text": [
      "Apple --- ORG Companies, agencies, institutions, etc.\n",
      "Hong Kong --- GPE Countries, cities, states\n",
      "$6 million --- MONEY Monetary values, including unit\n"
     ]
    }
   ],
   "source": [
    "miString = 'Apple to build a Hong Kong factory for $6 million' \n",
    "\n",
    "doc3_sm = nlp_en_sm(miString)\n",
    "\n",
    "for entity in doc3_sm.ents:\n",
    "    print(entity.text, '---', entity.label_, spacy.explain(entity.label_))"
   ]
  },
  {
   "cell_type": "code",
   "execution_count": 31,
   "metadata": {},
   "outputs": [
    {
     "name": "stdout",
     "output_type": "stream",
     "text": [
      "Apple --- ORG Companies, agencies, institutions, etc.\n",
      "Hong Kong --- GPE Countries, cities, states\n",
      "$6 million --- MONEY Monetary values, including unit\n"
     ]
    }
   ],
   "source": [
    "doc3_md = nlp_en_md(miString)\n",
    "for entity in doc3_md.ents:\n",
    "    print(entity.text, '---', entity.label_, spacy.explain(entity.label_))"
   ]
  },
  {
   "cell_type": "code",
   "execution_count": null,
   "metadata": {},
   "outputs": [],
   "source": [
    "miStr = u'Over the last quarter Apple sold nearly 20 thousand iPods for a profit of $6 million' \n",
    "doc4_sm = nlp_en_sm(miStr)"
   ]
  },
  {
   "cell_type": "code",
   "execution_count": 47,
   "metadata": {},
   "outputs": [
    {
     "data": {
      "text/html": [
       "<span class=\"tex2jax_ignore\"><div class=\"entities\" style=\"line-height: 2.5; direction: ltr\">Over \n",
       "<mark class=\"entity\" style=\"background: #bfe1d9; padding: 0.45em 0.6em; margin: 0 0.25em; line-height: 1; border-radius: 0.35em;\">\n",
       "    the last quarter\n",
       "    <span style=\"font-size: 0.8em; font-weight: bold; line-height: 1; border-radius: 0.35em; vertical-align: middle; margin-left: 0.5rem\">DATE</span>\n",
       "</mark>\n",
       " \n",
       "<mark class=\"entity\" style=\"background: #7aecec; padding: 0.45em 0.6em; margin: 0 0.25em; line-height: 1; border-radius: 0.35em;\">\n",
       "    Apple\n",
       "    <span style=\"font-size: 0.8em; font-weight: bold; line-height: 1; border-radius: 0.35em; vertical-align: middle; margin-left: 0.5rem\">ORG</span>\n",
       "</mark>\n",
       " sold \n",
       "<mark class=\"entity\" style=\"background: #e4e7d2; padding: 0.45em 0.6em; margin: 0 0.25em; line-height: 1; border-radius: 0.35em;\">\n",
       "    nearly 20 thousand\n",
       "    <span style=\"font-size: 0.8em; font-weight: bold; line-height: 1; border-radius: 0.35em; vertical-align: middle; margin-left: 0.5rem\">CARDINAL</span>\n",
       "</mark>\n",
       " iPods for a profit of \n",
       "<mark class=\"entity\" style=\"background: #e4e7d2; padding: 0.45em 0.6em; margin: 0 0.25em; line-height: 1; border-radius: 0.35em;\">\n",
       "    $6 million\n",
       "    <span style=\"font-size: 0.8em; font-weight: bold; line-height: 1; border-radius: 0.35em; vertical-align: middle; margin-left: 0.5rem\">MONEY</span>\n",
       "</mark>\n",
       "</div></span>"
      ],
      "text/plain": [
       "<IPython.core.display.HTML object>"
      ]
     },
     "metadata": {},
     "output_type": "display_data"
    }
   ],
   "source": [
    "from spacy import displacy\n",
    "\n",
    "displacy.render(doc4_sm, style='ent', jupyter=True, options={'distance':100})"
   ]
  },
  {
   "cell_type": "code",
   "execution_count": 41,
   "metadata": {},
   "outputs": [
    {
     "data": {
      "text/html": [
       "<span class=\"tex2jax_ignore\"><div class=\"entities\" style=\"line-height: 2.5; direction: ltr\">Over \n",
       "<mark class=\"entity\" style=\"background: #bfe1d9; padding: 0.45em 0.6em; margin: 0 0.25em; line-height: 1; border-radius: 0.35em;\">\n",
       "    the last quarter\n",
       "    <span style=\"font-size: 0.8em; font-weight: bold; line-height: 1; border-radius: 0.35em; vertical-align: middle; margin-left: 0.5rem\">DATE</span>\n",
       "</mark>\n",
       " \n",
       "<mark class=\"entity\" style=\"background: #7aecec; padding: 0.45em 0.6em; margin: 0 0.25em; line-height: 1; border-radius: 0.35em;\">\n",
       "    Apple\n",
       "    <span style=\"font-size: 0.8em; font-weight: bold; line-height: 1; border-radius: 0.35em; vertical-align: middle; margin-left: 0.5rem\">ORG</span>\n",
       "</mark>\n",
       " sold \n",
       "<mark class=\"entity\" style=\"background: #e4e7d2; padding: 0.45em 0.6em; margin: 0 0.25em; line-height: 1; border-radius: 0.35em;\">\n",
       "    nearly 20 thousand\n",
       "    <span style=\"font-size: 0.8em; font-weight: bold; line-height: 1; border-radius: 0.35em; vertical-align: middle; margin-left: 0.5rem\">CARDINAL</span>\n",
       "</mark>\n",
       " iPods for a profit of \n",
       "<mark class=\"entity\" style=\"background: #e4e7d2; padding: 0.45em 0.6em; margin: 0 0.25em; line-height: 1; border-radius: 0.35em;\">\n",
       "    $6 million\n",
       "    <span style=\"font-size: 0.8em; font-weight: bold; line-height: 1; border-radius: 0.35em; vertical-align: middle; margin-left: 0.5rem\">MONEY</span>\n",
       "</mark>\n",
       "</div></span>"
      ],
      "text/plain": [
       "<IPython.core.display.HTML object>"
      ]
     },
     "metadata": {},
     "output_type": "display_data"
    }
   ],
   "source": [
    "doc4_md = nlp_en_md(miStr)\n",
    "displacy.render(doc4_md, style='ent', jupyter=True, options={'distance':100})"
   ]
  },
  {
   "cell_type": "code",
   "execution_count": 42,
   "metadata": {},
   "outputs": [
    {
     "data": {
      "text/html": [
       "<span class=\"tex2jax_ignore\"><div class=\"entities\" style=\"line-height: 2.5; direction: ltr\">Over \n",
       "<mark class=\"entity\" style=\"background: #bfe1d9; padding: 0.45em 0.6em; margin: 0 0.25em; line-height: 1; border-radius: 0.35em;\">\n",
       "    the last quarter\n",
       "    <span style=\"font-size: 0.8em; font-weight: bold; line-height: 1; border-radius: 0.35em; vertical-align: middle; margin-left: 0.5rem\">DATE</span>\n",
       "</mark>\n",
       " \n",
       "<mark class=\"entity\" style=\"background: #7aecec; padding: 0.45em 0.6em; margin: 0 0.25em; line-height: 1; border-radius: 0.35em;\">\n",
       "    Apple\n",
       "    <span style=\"font-size: 0.8em; font-weight: bold; line-height: 1; border-radius: 0.35em; vertical-align: middle; margin-left: 0.5rem\">ORG</span>\n",
       "</mark>\n",
       " sold \n",
       "<mark class=\"entity\" style=\"background: #e4e7d2; padding: 0.45em 0.6em; margin: 0 0.25em; line-height: 1; border-radius: 0.35em;\">\n",
       "    nearly 20 thousand\n",
       "    <span style=\"font-size: 0.8em; font-weight: bold; line-height: 1; border-radius: 0.35em; vertical-align: middle; margin-left: 0.5rem\">CARDINAL</span>\n",
       "</mark>\n",
       " \n",
       "<mark class=\"entity\" style=\"background: #bfeeb7; padding: 0.45em 0.6em; margin: 0 0.25em; line-height: 1; border-radius: 0.35em;\">\n",
       "    iPods\n",
       "    <span style=\"font-size: 0.8em; font-weight: bold; line-height: 1; border-radius: 0.35em; vertical-align: middle; margin-left: 0.5rem\">PRODUCT</span>\n",
       "</mark>\n",
       " for a profit of \n",
       "<mark class=\"entity\" style=\"background: #e4e7d2; padding: 0.45em 0.6em; margin: 0 0.25em; line-height: 1; border-radius: 0.35em;\">\n",
       "    $6 million\n",
       "    <span style=\"font-size: 0.8em; font-weight: bold; line-height: 1; border-radius: 0.35em; vertical-align: middle; margin-left: 0.5rem\">MONEY</span>\n",
       "</mark>\n",
       "</div></span>"
      ],
      "text/plain": [
       "<IPython.core.display.HTML object>"
      ]
     },
     "metadata": {},
     "output_type": "display_data"
    }
   ],
   "source": [
    "doc4_lg = nlp_en_lg(miStr)\n",
    "displacy.render(doc4_lg, style='ent', jupyter=True, options={'distance':100})"
   ]
  }
 ],
 "metadata": {
  "kernelspec": {
   "display_name": "Python 3.10.5 ('pythondata-ElkPyzMM-py3.10')",
   "language": "python",
   "name": "python3"
  },
  "language_info": {
   "codemirror_mode": {
    "name": "ipython",
    "version": 3
   },
   "file_extension": ".py",
   "mimetype": "text/x-python",
   "name": "python",
   "nbconvert_exporter": "python",
   "pygments_lexer": "ipython3",
   "version": "3.10.5"
  },
  "orig_nbformat": 4,
  "vscode": {
   "interpreter": {
    "hash": "b5c891cd4f68ef213a7b5f847117269620fea06ca1158fbe611802f31c7ef263"
   }
  }
 },
 "nbformat": 4,
 "nbformat_minor": 2
}
