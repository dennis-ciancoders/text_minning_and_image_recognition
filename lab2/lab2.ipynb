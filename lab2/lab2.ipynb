version https://git-lfs.github.com/spec/v1
oid sha256:1c9ba363e95b916cacf6ae255501845a09725559f4f23f2fa20c1ecbc02ab057
size 264
