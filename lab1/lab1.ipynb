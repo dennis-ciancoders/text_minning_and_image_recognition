version https://git-lfs.github.com/spec/v1
oid sha256:70a2cfcb92c0bc0bd8fc4f8e3f8841a29d72677e4f85628fe9bc4564d49bf674
size 3276000
