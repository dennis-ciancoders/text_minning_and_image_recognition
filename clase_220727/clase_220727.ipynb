version https://git-lfs.github.com/spec/v1
oid sha256:21e0ad7e8a0d9a50f30df1158bdc4fd86e402e88072bdd9e2ee0058236f873e2
size 270
